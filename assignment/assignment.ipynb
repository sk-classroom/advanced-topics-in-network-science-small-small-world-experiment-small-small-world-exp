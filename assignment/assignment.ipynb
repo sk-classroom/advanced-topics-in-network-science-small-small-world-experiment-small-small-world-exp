{
 "cells": [
  {
   "cell_type": "markdown",
   "id": "58ffdee1",
   "metadata": {},
   "source": [
    "# Assignment\n",
    "\n",
    "In this assignment, we will compute the average path length of a network of scientists. Please see the README in the data folder for more details on the network.\n",
    "\n",
    "Complete the following tasks and upload your notebook to your GitHub repository.\n",
    "\n",
    "1. Fill in the black functions, marked by, \"\\#TODO\", in the notebook\n",
    "2. Update this notebook.\n",
    "3. Copy & Paste the functions into `answer.py` in the same folder this notebook is. Make sure that all necessary imports are included.\n",
    "4. `git add` the `answer.py` or upload through the web\n",
    "5. The script will be automatically graded, and your score will be shown on GitHub. See [how to check the results on GitHub](https:// ocs.github.com/en/education/manage-coursework-with-github-classroom/learn-with-github-classroom/view-autograding-results)\n",
    "\n",
    "## Load the network"
   ]
  },
  {
   "cell_type": "code",
   "execution_count": null,
   "id": "58c0675c",
   "metadata": {
    "tags": [
     "non-grading-item"
    ]
   },
   "outputs": [],
   "source": [
    "from scipy import sparse\n",
    "import pandas as pd\n",
    "import igraph\n",
    "import numpy as np\n",
    "\n",
    "edge_table = pd.read_csv(\"https://raw.githubusercontent.com/sk-classroom/small-small-world-exp/main/data/edge_coauthorship.csv\")\n",
    "\n",
    "src, trg = edge_table[\"src\"], edge_table[\"trg\"]\n",
    "g = igraph.Graph.TupleList(list(zip(src, trg)), directed=False)"
   ]
  },
  {
   "cell_type": "markdown",
   "id": "3bea1727",
   "metadata": {},
   "source": [
    "The size of the networks:"
   ]
  },
  {
   "cell_type": "code",
   "execution_count": null,
   "id": "2cb2873a",
   "metadata": {
    "tags": [
     "non-grading-item"
    ]
   },
   "outputs": [],
   "source": [
    "print(\"Number of nodes:\", g.vcount())\n",
    "print(\"Number of edges:\", g.ecount())"
   ]
  },
  {
   "cell_type": "markdown",
   "id": "c8164c37",
   "metadata": {},
   "source": [
    "# Connected components\n",
    "\n",
    "How many connected components?"
   ]
  },
  {
   "cell_type": "code",
   "execution_count": null,
   "id": "bd999a54",
   "metadata": {
    "tags": [
     "non-grading-item"
    ]
   },
   "outputs": [],
   "source": [
    "def count_connected_components(g):\n",
    "    return len(g.connected_components())\n",
    "\n",
    "print(\"Number of connected components:\", count_connected_components(g))"
   ]
  },
  {
   "cell_type": "markdown",
   "id": "ff56f756",
   "metadata": {},
   "source": [
    "# Largest connected component"
   ]
  },
  {
   "cell_type": "code",
   "execution_count": null,
   "id": "48cdfb66",
   "metadata": {
    "tags": [
     "grading"
    ]
   },
   "outputs": [],
   "source": [
    "#TODO\n",
    "def get_largest_connected_component(g):\n",
    "    \"\"\"\n",
    "    Get the largest connected component of the graph.\n",
    "\n",
    "    Parameters\n",
    "    ----------\n",
    "    g : igraph.Graph\n",
    "        The graph to get the largest connected component from.\n",
    "\n",
    "    Returns\n",
    "    -------\n",
    "    igraph.Graph\n",
    "        The largest connected component.\n",
    "    \"\"\"\n",
    "    pass"
   ]
  },
  {
   "cell_type": "code",
   "execution_count": null,
   "id": "d717e244",
   "metadata": {
    "tags": [
     "non-grading-item"
    ]
   },
   "outputs": [],
   "source": [
    "gs = get_largest_connected_component(g)\n",
    "print(gs)"
   ]
  },
  {
   "cell_type": "markdown",
   "id": "50fbc802",
   "metadata": {},
   "source": [
    "# Compute the average path length\n",
    "\n",
    "Let us compute the average path legnth between two random nodes. As our network has more than 10,000 nodes, it is not practical to compute the shortest path length between all pairs of nodes. Instead, we perform an estimation by randomly sampling two nodes sufficiently many times and compute the average path length.\n"
   ]
  },
  {
   "cell_type": "code",
   "execution_count": null,
   "id": "e69db7c3",
   "metadata": {
    "lines_to_next_cell": 0,
    "tags": [
     "grading"
    ]
   },
   "outputs": [],
   "source": [
    "# TODO: Implement the function. The function is partially implemented below.\n",
    "def get_average_path_length(g, n_samples=100):\n",
    "    \"\"\"\n",
    "    Get the average path length between two random nodes.\n",
    "    \"\"\"\n",
    "\n",
    "    # Pick two random distinct node pairs\n",
    "    n_nodes = g.vcount()\n",
    "    while True:\n",
    "        src = np.random.choice(n_nodes, n_samples)\n",
    "        trg = np.random.choice(n_nodes, n_samples)\n",
    "\n",
    "        # If all the two nodes are distinct\n",
    "        # (We do not want to have two nodes to be the same node, which results in the path length of 0, leading to the underestimation of the average path length)\n",
    "        if np.all(src != trg):\n",
    "            break\n",
    "\n",
    "    # Compute the average shortest path length between the sampled nodes\n",
    "    path_lengths = ...\n",
    "\n",
    "    # Return the average path length\n",
    "    return np.mean(path_lengths)"
   ]
  },
  {
   "cell_type": "code",
   "execution_count": null,
   "id": "c1122878",
   "metadata": {
    "tags": [
     "non-grading-item"
    ]
   },
   "outputs": [],
   "source": [
    "ave_path_length = get_average_path_length(gs)\n",
    "\n",
    "print(\"Average path length:\", ave_path_length)"
   ]
  }
 ],
 "metadata": {
  "kernelspec": {
   "display_name": "Python 3",
   "language": "python",
   "name": "python3"
  }
 },
 "nbformat": 4,
 "nbformat_minor": 5
}
